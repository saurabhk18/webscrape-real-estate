{
 "cells": [
  {
   "cell_type": "code",
   "execution_count": 24,
   "metadata": {},
   "outputs": [
    {
     "data": {
      "text/plain": [
       "'$725,000'"
      ]
     },
     "execution_count": 24,
     "metadata": {},
     "output_type": "execute_result"
    }
   ],
   "source": [
    "import requests\n",
    "from bs4 import BeautifulSoup\n",
    "\n",
    "# this section is for unit testing:\n",
    "\n",
    "#fetch HTML code\n",
    "r = requests.get(\"http://www.pyclass.com/real-estate/rock-springs-wy/LCWYROCKSPRINGS/\", headers={'User-agent': 'Mozilla/5.0 (X11; Ubuntu; Linux x86_64; rv:61.0) Gecko/20100101 Firefox/61.0'})\n",
    "c = r.content\n",
    "\n",
    "# parse requested content in HTML format using BeautifulSoup\n",
    "soup = BeautifulSoup(c,\"html.parser\") \n",
    "#print(soup.prettify()) # to test that HTML script has been read correctly\n",
    "\n",
    "#from inspecting HTML, we know that each listing is a div element with class propertyRow\n",
    "all = soup.find_all(\"div\",{\"class\":\"propertyRow\"})\n",
    "\n",
    "#extract price of first listing from h4 tag with class propPrice\n",
    "all[0].find(\"h4\",{\"class\":\"propPrice\"}).text.replace(\"\\n\",\"\").replace(\" \",\"\") # convert 'Tag' to text, remove \\n and spaces"
   ]
  },
  {
   "cell_type": "code",
   "execution_count": 25,
   "metadata": {},
   "outputs": [
    {
     "name": "stdout",
     "output_type": "stream",
     "text": [
      "http://www.pyclass.com/real-estate/rock-springs-wy/LCWYROCKSPRINGS/t=0&s=0.html\n",
      "http://www.pyclass.com/real-estate/rock-springs-wy/LCWYROCKSPRINGS/t=0&s=10.html\n",
      "http://www.pyclass.com/real-estate/rock-springs-wy/LCWYROCKSPRINGS/t=0&s=20.html\n"
     ]
    }
   ],
   "source": [
    "page_no = soup.find_all(\"a\",{\"class\":\"Page\"})[-1].text # page number is required to dynamically change the URL as the listings\n",
    "# are spread across multiple pages\n",
    "\n",
    "# print price and address of each listing on page\n",
    "l = [] # list to store dictionaries. Each dictionary has details of one listing\n",
    "\n",
    "# you notice that only the last part of the URL s= changes from 0 to 10 to 20 depending on the page number\n",
    "base_url = \"http://www.pyclass.com/real-estate/rock-springs-wy/LCWYROCKSPRINGS/t=0&s=\"\n",
    "for page in range(0,int(page_no)*10,10):\n",
    "    print(base_url+str(page)+\".html\")\n",
    "    r = requests.get(base_url+str(page)+\".html\", headers={'User-agent': 'Mozilla/5.0 (X11; Ubuntu; Linux x86_64; rv:61.0) Gecko/20100101 Firefox/61.0'})\n",
    "    c = r.content\n",
    "    soup = BeautifulSoup(c, \"html.parser\")\n",
    "    all = soup.find_all(\"div\",{\"class\":\"propertyRow\"})\n",
    "\n",
    "    for item in all:\n",
    "        d = {} # dictionary\n",
    "        \n",
    "        # address is stored in TWO span tags with class propAddressCollapse. First has street and second has zip\n",
    "        d[\"Address\"] = item.find_all(\"span\",{\"class\":\"propAddressCollapse\"})[0].text\n",
    "        d[\"Locality\"] = item.find_all(\"span\",{\"class\":\"propAddressCollapse\"})[1].text\n",
    "        \n",
    "        d[\"Price\"] = item.find(\"h4\",{\"class\":\"propPrice\"}).text.replace(\"\\n\",\"\").replace(\" \",\"\")\n",
    "\n",
    "        # bedroom info\n",
    "        try: #to catch exception where data (HTML tag) is missing, such as no bedroom info for first listing\n",
    "            d[\"Beds\"] = item.find(\"span\",{\"class\":\"infoBed\"}).find(\"b\").text\n",
    "        except:\n",
    "            d[\"Beds\"] = None\n",
    "\n",
    "        try: \n",
    "            d[\"Area\"] = item.find(\"span\",{\"class\":\"infoSqFt\"}).find(\"b\").text\n",
    "        except:\n",
    "            d[\"Area\"] = None\n",
    "\n",
    "        try: \n",
    "            d[\"Full Baths\"] = item.find(\"span\",{\"class\":\"infoValueFullBath\"}).find(\"b\").text\n",
    "        except:\n",
    "            d[\"Full Baths\"] = None\n",
    "\n",
    "        try: \n",
    "            d[\"Half Baths\"] = item.find(\"span\",{\"class\":\"infoValueHalfBath\"}).find(\"b\").text\n",
    "        except:\n",
    "            d[\"Half Baths\"] = None\n",
    "\n",
    "        # Extract Lot Size from Features. Features exist in div tags with class columnGroup, which have span tags with class featureGroup which has the feature type\n",
    "        # (Lot Size, Appliances etc.) and class featureName which has the values\n",
    "\n",
    "        for column_group in item.find_all(\"div\",{\"class\":\"columnGroup\"}):\n",
    "            for feature_group, feature_name in zip(column_group.find_all(\"span\",{\"class\":\"featureGroup\"}), column_group.find_all(\"span\",{\"class\":\"featureName\"})):\n",
    "                if \"Lot Size\" in feature_group.text:\n",
    "                    d[\"Lot Size\"] = feature_name.text\n",
    "\n",
    "        l.append(d)"
   ]
  },
  {
   "cell_type": "code",
   "execution_count": 26,
   "metadata": {},
   "outputs": [],
   "source": [
    "# load above list into a DataFrame and export it to CSV\n",
    "import pandas as pd\n",
    "df = pd.DataFrame(l)\n",
    "\n",
    "df.to_csv(\"Page1_Data.csv\")"
   ]
  }
 ],
 "metadata": {
  "kernelspec": {
   "display_name": "Python 3",
   "language": "python",
   "name": "python3"
  },
  "language_info": {
   "codemirror_mode": {
    "name": "ipython",
    "version": 3
   },
   "file_extension": ".py",
   "mimetype": "text/x-python",
   "name": "python",
   "nbconvert_exporter": "python",
   "pygments_lexer": "ipython3",
   "version": "3.6.1"
  }
 },
 "nbformat": 4,
 "nbformat_minor": 4
}
